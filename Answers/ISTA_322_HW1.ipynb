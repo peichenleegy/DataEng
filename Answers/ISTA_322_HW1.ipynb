{
  "nbformat": 4,
  "nbformat_minor": 0,
  "metadata": {
    "colab": {
      "name": "ISTA_322_HW1_Newton.ipynb",
      "provenance": [],
      "collapsed_sections": []
    },
    "kernelspec": {
      "name": "python3",
      "display_name": "Python 3"
    }
  },
  "cells": [
    {
      "cell_type": "markdown",
      "metadata": {
        "id": "NC8f7soL0uZJ"
      },
      "source": [
        "# ISTA 322 Homework 1\n",
        "\n",
        "Welcome to your first homework!  This one is focused on just practicing some of the exercises covered in the last coding lesson.  There are also some more open-ended questions with elements that I didn't demonstrate in that lesson... they're structurally similar, but you might need to google a thing or two to figure out the correction function.  \n",
        "\n",
        "You need to add your own code blocks to answer any of the coding questions.  Also, at the end of some sections I have a 'questions' section.  Add a text cell right below and enter your answers. "
      ]
    },
    {
      "cell_type": "markdown",
      "metadata": {
        "id": "Zw99uzuT1vLk"
      },
      "source": [
        "## Loading and Importing\n",
        "\n",
        "First thing you need to do is load up your packages and then bring in the data.  \n",
        "\n",
        "This dataset contains daily values for Amazon's stock.  This includes opening, closing, high price, low price, and also the amount of stock traded. "
      ]
    },
    {
      "cell_type": "code",
      "metadata": {
        "id": "qSPHhsZlyowG"
      },
      "source": [
        "import pandas as pd\n",
        "# also import matplotlib.pyplot and numpy with the proper aliases\n",
        "import numpy as np\n",
        "import matplotlib.pyplot as plt\n",
        "\n"
      ],
      "execution_count": null,
      "outputs": []
    },
    {
      "cell_type": "code",
      "metadata": {
        "id": "tvgt5t51yaKN"
      },
      "source": [
        "# Bring in your data. You just need to run this cell.\n",
        "price = pd.read_csv(\"https://docs.google.com/spreadsheets/d/1z6br9DCz3v9MmPSBfGm7zy9-B-JQuKk71uh9SM0-NPw/gviz/tq?tqx=out:csv\")"
      ],
      "execution_count": null,
      "outputs": []
    },
    {
      "cell_type": "markdown",
      "metadata": {
        "id": "bZCHUmA72PvI"
      },
      "source": [
        "## Exploring the whole dataset\n",
        "\n",
        "Now make some code cells to explore the whole dataset.  I want you to do the following:\n",
        "\n",
        "- Get the number of rows and columns\n",
        "- Get the datatypes of each column\n",
        "- Look at the first five rows\n",
        "- Look at the last five rows\n",
        "- Look at summary statistics"
      ]
    },
    {
      "cell_type": "code",
      "metadata": {
        "colab": {
          "base_uri": "https://localhost:8080/"
        },
        "id": "LEexB8DGYiyh",
        "outputId": "797c8637-93f3-4b63-9ef8-142e153a0951"
      },
      "source": [
        "print(price.shape)\r\n",
        "# 5852 rows x 7 columns"
      ],
      "execution_count": null,
      "outputs": [
        {
          "output_type": "stream",
          "text": [
            "(5852, 7)\n"
          ],
          "name": "stdout"
        }
      ]
    },
    {
      "cell_type": "code",
      "metadata": {
        "colab": {
          "base_uri": "https://localhost:8080/"
        },
        "id": "SU_eyoZoZtLX",
        "outputId": "025c20fb-77f1-48e1-b790-56c5e9c6b48e"
      },
      "source": [
        "print(price.dtypes)"
      ],
      "execution_count": null,
      "outputs": [
        {
          "output_type": "stream",
          "text": [
            "Date          object\n",
            "Open         float64\n",
            "High         float64\n",
            "Low          float64\n",
            "Close        float64\n",
            "Adj Close    float64\n",
            "Volume         int64\n",
            "dtype: object\n"
          ],
          "name": "stdout"
        }
      ]
    },
    {
      "cell_type": "code",
      "metadata": {
        "colab": {
          "base_uri": "https://localhost:8080/"
        },
        "id": "LQ03z2_WaBL4",
        "outputId": "abcc50b6-2d23-43e3-cd8b-0282d469b697"
      },
      "source": [
        "print(price.head(5))"
      ],
      "execution_count": null,
      "outputs": [
        {
          "output_type": "stream",
          "text": [
            "         Date      Open      High       Low     Close  Adj Close    Volume\n",
            "0  1997-05-15  2.437500  2.500000  1.927083  1.958333   1.958333  72156000\n",
            "1  1997-05-16  1.968750  1.979167  1.708333  1.729167   1.729167  14700000\n",
            "2  1997-05-19  1.760417  1.770833  1.625000  1.708333   1.708333   6106800\n",
            "3  1997-05-20  1.729167  1.750000  1.635417  1.635417   1.635417   5467200\n",
            "4  1997-05-21  1.635417  1.645833  1.375000  1.427083   1.427083  18853200\n"
          ],
          "name": "stdout"
        }
      ]
    },
    {
      "cell_type": "code",
      "metadata": {
        "colab": {
          "base_uri": "https://localhost:8080/"
        },
        "id": "PDkhzyWob-0Q",
        "outputId": "78c58544-358d-4370-c773-255a5c6d06f5"
      },
      "source": [
        "print(price.tail(5))"
      ],
      "execution_count": null,
      "outputs": [
        {
          "output_type": "stream",
          "text": [
            "            Date         Open         High  ...        Close    Adj Close   Volume\n",
            "5847  2020-08-10  3170.310059  3172.510010  ...  3148.159912  3148.159912  3167300\n",
            "5848  2020-08-11  3113.199951  3159.219971  ...  3080.669922  3080.669922  3718100\n",
            "5849  2020-08-12  3108.000000  3174.389893  ...  3162.239990  3162.239990  3527200\n",
            "5850  2020-08-13  3182.989990  3217.520020  ...  3161.020020  3161.020020  3149000\n",
            "5851  2020-08-14  3178.179932  3178.239990  ...  3148.020020  3148.020020  2749200\n",
            "\n",
            "[5 rows x 7 columns]\n"
          ],
          "name": "stdout"
        }
      ]
    },
    {
      "cell_type": "code",
      "metadata": {
        "colab": {
          "base_uri": "https://localhost:8080/"
        },
        "id": "50AkZAPgb8Xo",
        "outputId": "998fc792-8608-4f3c-f05a-65ba10d54e67"
      },
      "source": [
        "print(price.describe())"
      ],
      "execution_count": null,
      "outputs": [
        {
          "output_type": "stream",
          "text": [
            "              Open         High  ...    Adj Close        Volume\n",
            "count  5852.000000  5852.000000  ...  5852.000000  5.852000e+03\n",
            "mean    377.469557   381.737827  ...   377.500736  7.512673e+06\n",
            "std     596.291033   602.615299  ...   596.287464  7.278144e+06\n",
            "min       1.406250     1.447917  ...     1.395833  4.872000e+05\n",
            "25%      37.995000    38.590000  ...    37.950001  3.681975e+06\n",
            "50%      83.699997    85.029999  ...    83.602501  5.652850e+06\n",
            "75%     360.852501   365.794991  ...   362.217506  8.517450e+06\n",
            "max    3251.060059  3344.290039  ...  3225.000000  1.043292e+08\n",
            "\n",
            "[8 rows x 6 columns]\n"
          ],
          "name": "stdout"
        }
      ]
    },
    {
      "cell_type": "markdown",
      "metadata": {
        "id": "zh8bXhN98PlZ"
      },
      "source": [
        "### Questions\n",
        "\n",
        "- How many rows are in this dataset?\n",
        "- Do any datatypes need to be converted?\n",
        "- What was the mean and all time high opening stock price?"
      ]
    },
    {
      "cell_type": "markdown",
      "metadata": {
        "id": "0gfgqEsgdrN2"
      },
      "source": [
        "There are 5852 rows in this dataset.\r\n",
        "Yes, the date needs to be converted into a datetime object.\r\n",
        "The mean opening price was 377.47 dollars and the all time high opening price was 3251.06 dollars."
      ]
    },
    {
      "cell_type": "markdown",
      "metadata": {
        "id": "KuxNuET0-Ege"
      },
      "source": [
        "## Making some columns\n",
        "\n",
        "Here we need to make a couple new columns.\n",
        "\n",
        "- First, turn that date column into an actual date object.  \n",
        "- Also make a new column called 'up_binom' if the stock price increased for that day"
      ]
    },
    {
      "cell_type": "code",
      "metadata": {
        "id": "VkX4RUjgesEM"
      },
      "source": [
        "price['Date'] = pd.to_datetime(price['Date'])"
      ],
      "execution_count": null,
      "outputs": []
    },
    {
      "cell_type": "code",
      "metadata": {
        "id": "FJ-u9g7Rhs4_"
      },
      "source": [
        "price['up_binom'] = np.where(price['Close'] >= price['Open'], 1, 0)"
      ],
      "execution_count": null,
      "outputs": []
    },
    {
      "cell_type": "markdown",
      "metadata": {
        "id": "8S9bvttrChYu"
      },
      "source": [
        "### Using the columns - Making a plot\n",
        "\n",
        "Let's use those columns we just made to make a plot\n",
        "\n",
        "- First, explore your new column.  What is the starting date, ending date, and total time from beginning to end?  You'll need three lines of code to do this\n",
        "- Next, make a plot of the closing price over the whole timeframe of the dataset\n",
        "- Hint - you might need to google how to make a line plot!"
      ]
    },
    {
      "cell_type": "code",
      "metadata": {
        "id": "hpAzEq3HiuZ7"
      },
      "source": [
        "start = price['Date'].min()\r\n",
        "end = price['Date'].max()\r\n",
        "total = price['Date'].max() - price['Date'].min()"
      ],
      "execution_count": null,
      "outputs": []
    },
    {
      "cell_type": "code",
      "metadata": {
        "colab": {
          "base_uri": "https://localhost:8080/",
          "height": 286
        },
        "id": "C3vsx54okkPy",
        "outputId": "c26e6867-d1d3-4581-fdc2-d56e0f32317e"
      },
      "source": [
        "price.plot.line('Date', 'Close')"
      ],
      "execution_count": null,
      "outputs": [
        {
          "output_type": "execute_result",
          "data": {
            "text/plain": [
              "<matplotlib.axes._subplots.AxesSubplot at 0x7f5421ed6438>"
            ]
          },
          "metadata": {
            "tags": []
          },
          "execution_count": 68
        },
        {
          "output_type": "display_data",
          "data": {
            "image/png": "[encoded data removed]",
            "text/plain": [
              "<Figure size 432x288 with 1 Axes>"
            ]
          },
          "metadata": {
            "tags": [],
            "needs_background": "light"
          }
        }
      ]
    },
    {
      "cell_type": "markdown",
      "metadata": {
        "id": "qyCr9-KWDRMj"
      },
      "source": [
        "### Using the columns - How rich could I be?  \n",
        "\n",
        "Word problem time.  When I was 13 I save up $2000 from mowing lawns and bought a bicycle.  This was honestly right around the start of this dataset (May 15, 1997).  Let's say instead of buying that bike I put all that money into Amazon stock.  How much would that stock be worth on the very last day of this dataset?\n",
        "\n",
        "\n",
        "\n"
      ]
    },
    {
      "cell_type": "code",
      "metadata": {
        "id": "c5Ar2LDdJGHr"
      },
      "source": [
        "# I'm going to make your life easier and set the date column you created as the index.\n",
        "# This will make searching and extracting the values much easier\n",
        "price = price.set_index('Date')"
      ],
      "execution_count": null,
      "outputs": []
    },
    {
      "cell_type": "code",
      "metadata": {
        "colab": {
          "base_uri": "https://localhost:8080/"
        },
        "id": "jdeMnsbtl-ZQ",
        "outputId": "37b8147c-3b6f-4699-cbe3-66204c8516b3"
      },
      "source": [
        "# Assuming we are following buy low sell high stock mechanics...\r\n",
        "stock_amt = 2000 / price['Low'][0]\r\n",
        "end_value = stock_amt * price['High'][5851]\r\n",
        "print(\"Stock worth: %.2f\" % end_value)\r\n"
      ],
      "execution_count": null,
      "outputs": [
        {
          "output_type": "stream",
          "text": [
            "Stock worth: 3298498.29\n"
          ],
          "name": "stdout"
        }
      ]
    },
    {
      "cell_type": "markdown",
      "metadata": {
        "id": "xnR1TjXsO-jN"
      },
      "source": [
        "###Questions\n",
        "\n",
        "How big of a mistake did I make in dollars by not buying Amazon stock?"
      ]
    },
    {
      "cell_type": "markdown",
      "metadata": {
        "id": "0c3VmcC3npBV"
      },
      "source": [
        "A mistake of about $3298498.29 give or take the value of your bike now. "
      ]
    },
    {
      "cell_type": "markdown",
      "metadata": {
        "id": "S96lJStTQuTR"
      },
      "source": [
        "## JSON\n",
        "\n",
        "The last part of the assignment will have you working with some basic JSON data.  The URL links to a JSON file with stats on every episode of the TV show Silicon Valley\n"
      ]
    },
    {
      "cell_type": "code",
      "metadata": {
        "id": "SuhZceOOQvwq"
      },
      "source": [
        "# First just run this to import the data\n",
        "import requests\n",
        "url = 'http://api.tvmaze.com/singlesearch/shows?q=silicon-valley&embed=episodes'\n",
        "sv_json_obj = requests.get(url)\n",
        "sv_json = sv_json_obj.json()"
      ],
      "execution_count": null,
      "outputs": []
    },
    {
      "cell_type": "markdown",
      "metadata": {
        "id": "V6150nhdAdA0"
      },
      "source": [
        "### Viewing your JSON\n",
        "\n",
        "Now just to look at what's in the JSON a bit\n",
        "\n",
        "- Make a code cell that just calls the JSON we named above. \n",
        "- Also run the .keys() function on the object."
      ]
    },
    {
      "cell_type": "code",
      "metadata": {
        "id": "CotE7Yz7oXYw"
      },
      "source": [
        "sv_json"
      ],
      "execution_count": null,
      "outputs": []
    },
    {
      "cell_type": "code",
      "metadata": {
        "colab": {
          "base_uri": "https://localhost:8080/"
        },
        "id": "70rbqOW7oJm3",
        "outputId": "f02b87e0-0acf-4b36-adbd-43ef39e69ef3"
      },
      "source": [
        "sv_json.keys()"
      ],
      "execution_count": null,
      "outputs": [
        {
          "output_type": "execute_result",
          "data": {
            "text/plain": [
              "dict_keys(['id', 'url', 'name', 'type', 'language', 'genres', 'status', 'runtime', 'premiered', 'officialSite', 'schedule', 'rating', 'weight', 'network', 'webChannel', 'externals', 'image', 'summary', 'updated', '_links', '_embedded'])"
            ]
          },
          "metadata": {
            "tags": []
          },
          "execution_count": 78
        }
      ]
    },
    {
      "cell_type": "markdown",
      "metadata": {
        "id": "brWt89epBk2M"
      },
      "source": [
        "### Questions\n",
        "\n",
        "Based on these responses, what keys are present in the JSON.  More importantly, are there any keys that don't get returned by .keys()?"
      ]
    },
    {
      "cell_type": "markdown",
      "metadata": {
        "id": "e3-w4Spjpnp2"
      },
      "source": [
        "Airdate, airstamp, airtime, number and a few others."
      ]
    },
    {
      "cell_type": "markdown",
      "metadata": {
        "id": "GgMloFrKCY3z"
      },
      "source": [
        "### Looking at overall show info\n",
        "\n",
        "They keys it's returning are related to the overall show info.  Can you do the following? \n",
        "\n",
        "- Get the day the show premiered\n",
        "- Get the summary of the show\n",
        "- Get the name of the network the show aired on "
      ]
    },
    {
      "cell_type": "code",
      "metadata": {
        "colab": {
          "base_uri": "https://localhost:8080/"
        },
        "id": "aVVxmzXIqjw6",
        "outputId": "69c46675-3dc2-4108-8611-0b837e3b3068"
      },
      "source": [
        "print(sv_json['premiered'])\r\n",
        "print(sv_json['summary'])\r\n",
        "print(sv_json['network']['name'])"
      ],
      "execution_count": null,
      "outputs": [
        {
          "output_type": "stream",
          "text": [
            "2014-04-06\n",
            "<p>In the high-tech gold rush of modern Silicon Valley, the people most qualified to succeed are the least capable of handling success. From Mike Judge comes this satire about a programmer whose game-changing algorithm becomes the subject of a valley-wide bidding war.</p>\n",
            "HBO\n"
          ],
          "name": "stdout"
        }
      ]
    },
    {
      "cell_type": "markdown",
      "metadata": {
        "id": "C4eAYH47DfA1"
      },
      "source": [
        "### Info from individual episodes\n",
        "\n",
        "To wrap up I want you to pull just some info from individual episodes. To access them we can use the '_embedded' key first.  Please do the following\n",
        "\n",
        "- Get the title of the 7th episode entry from the start\n",
        "- Get the summary of the 3rd episode entry from the start\n",
        "- Get the original image URL from the 4 entry from the start"
      ]
    },
    {
      "cell_type": "code",
      "metadata": {
        "id": "ImsP-F-k_g9M"
      },
      "source": [
        "# First, you can see the structure after moving down a level into '_embedded'\n",
        "sv_json['_embedded']"
      ],
      "execution_count": null,
      "outputs": []
    },
    {
      "cell_type": "code",
      "metadata": {
        "colab": {
          "base_uri": "https://localhost:8080/"
        },
        "id": "07ssEvC3rPu9",
        "outputId": "88e6564d-d1f1-48b2-80fb-c54aa69806e9"
      },
      "source": [
        "print(sv_json['_embedded']['episodes'][6]['name'])\r\n",
        "print(sv_json['_embedded']['episodes'][2]['summary'])\r\n",
        "print(sv_json['_embedded']['episodes'][3]['image']['original'])"
      ],
      "execution_count": null,
      "outputs": [
        {
          "output_type": "stream",
          "text": [
            "Proof of Concept\n",
            "<p>While Gavin Belson begins to hype Nucleus, a competing compression platform, Richard learns that the name Pied Piper is already registered to a sprinkler company, forcing him to negotiate. Meanwhile, Erlich goes on a vision quest for a new company name, and Peter Gregory proves elusive when one of his companies asks for money.</p>\n",
            "http://static.tvmaze.com/uploads/images/original_untouched/49/123636.jpg\n"
          ],
          "name": "stdout"
        }
      ]
    },
    {
      "cell_type": "markdown",
      "metadata": {
        "id": "2seHuV0V896Z"
      },
      "source": [
        "## Making functions\r\n",
        "\r\n",
        "The last part of this homework is to make a function based on the Amazon stock price dataset. I want this function to calculate the amount of money you would have made based on an initial investment at a date you enter and is extracted at a date you enter.  So the three arguments should be `starting_investment, investment_date, and cash_out_date`.  The return should be the number of dollars made based on that (not the total amount including the initial investment). Call the function `if_i_only_knew`."
      ]
    },
    {
      "cell_type": "code",
      "metadata": {
        "id": "VfScv61c8_oj"
      },
      "source": [
        "import pandas as pd\r\n",
        "import matplotlib.pyplot as plt\r\n",
        "import numpy as np\r\n",
        "price = pd.read_csv(\"https://docs.google.com/spreadsheets/d/1z6br9DCz3v9MmPSBfGm7zy9-B-JQuKk71uh9SM0-NPw/gviz/tq?tqx=out:csv\")\r\n",
        "# make your function here\r\n",
        "def find_row(date):\r\n",
        "  # Didn't know how to return row number of given date, so I made a function for it.\r\n",
        "  for i in range(len(price[\"Date\"])-1):\r\n",
        "    if price[\"Date\"][i] == date:\r\n",
        "      return i\r\n",
        "def if_i_only_knew(starting_investment, investment_date, cash_out_date):\r\n",
        "  start_price = price['Close'][find_row(investment_date)]\r\n",
        "  start_stock_amt = starting_investment / start_price\r\n",
        "  end_price = price['Close'][find_row(cash_out_date)]\r\n",
        "  dollars_made = round((start_stock_amt * end_price - starting_investment), 2)\r\n",
        "  return dollars_made"
      ],
      "execution_count": 197,
      "outputs": []
    },
    {
      "cell_type": "code",
      "metadata": {
        "id": "deTatXxI9OSn",
        "colab": {
          "base_uri": "https://localhost:8080/"
        },
        "outputId": "15155a8b-3c1a-4232-ead0-0eb5f62177e5"
      },
      "source": [
        "# test your function here\r\n",
        "# You should get 1082660 if you invested 5000 on 1997-05-15 and cashed out on 2105-05-15\r\n",
        "# I'm guessing 2105 means 2015\r\n",
        "if_i_only_knew(5000, \"1997-05-15\", \"2015-05-15\")"
      ],
      "execution_count": 198,
      "outputs": [
        {
          "output_type": "execute_result",
          "data": {
            "text/plain": [
              "1082659.76"
            ]
          },
          "metadata": {
            "tags": []
          },
          "execution_count": 198
        }
      ]
    }
  ]
}