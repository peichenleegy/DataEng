{
  "nbformat": 4,
  "nbformat_minor": 0,
  "metadata": {
    "colab": {
      "name": "HW_4_Sp2021_Newton.ipynb",
      "provenance": []
    },
    "kernelspec": {
      "name": "python3",
      "display_name": "Python 3"
    }
  },
  "cells": [
    {
      "cell_type": "markdown",
      "metadata": {
        "id": "evGyWlQVqn7P"
      },
      "source": [
        "# Connecting to your own RDB on AWS!\n",
        "\n",
        "Now that you've followed [this lesson on setting up a Postgres database on AWS](https://docs.google.com/presentation/d/1VbLuhe8xrooxVSw20NxPUEuwoITWTBNsTarsVPyJ0eo/edit?usp=sharing) it's time to connect to it! \n",
        "\n",
        "Below we're just going to load in our library.  I already have our trusty `get_conn_cur()` function.  You just need to modify to connect you your database.  To do this just enter in your host, databse name, username, and password. \n",
        "\n",
        "After that you can run the function and store your connection and cursor.  Check them out after to make sure you're connected!"
      ]
    },
    {
      "cell_type": "code",
      "metadata": {
        "id": "3iGQIzqplxga"
      },
      "source": [
        "import psycopg2"
      ],
      "execution_count": 2,
      "outputs": []
    },
    {
      "cell_type": "code",
      "metadata": {
        "id": "_t8fTKaZl6Cq"
      },
      "source": [
        "def get_conn_cur(): # define function name and arguments (there aren't any)\n",
        "  # Make a connection\n",
        "  conn = psycopg2.connect(\n",
        "    host=\"test-hw-db.codpumsddvml.us-east-1.rds.amazonaws.com\",\n",
        "    database=\"hw3_db_newton\",\n",
        "    user=\"infamous\",\n",
        "    password=\"Viperpilot36\",\n",
        "    port='5432')\n",
        "  \n",
        "  cur = conn.cursor()   # Make a cursor after\n",
        "\n",
        "  return(conn, cur)   # Return both the connection and the cursor"
      ],
      "execution_count": 4,
      "outputs": []
    },
    {
      "cell_type": "code",
      "metadata": {
        "id": "uzCzoqTNmDfz"
      },
      "source": [
        "# Get conn and cursor object\n",
        "conn, cur = get_conn_cur()"
      ],
      "execution_count": 5,
      "outputs": []
    },
    {
      "cell_type": "code",
      "metadata": {
        "id": "0TbWe6vemHX2",
        "colab": {
          "base_uri": "https://localhost:8080/"
        },
        "outputId": "8acf8465-faf5-44cd-f5bd-57805ba850f9"
      },
      "source": [
        "# Check it!\n",
        "conn"
      ],
      "execution_count": 6,
      "outputs": [
        {
          "output_type": "execute_result",
          "data": {
            "text/plain": [
              "<connection object at 0x7f99b4ae5a50; dsn: 'user=infamous password=xxx dbname=hw3_db_newton host=test-hw-db.codpumsddvml.us-east-1.rds.amazonaws.com port=5432', closed: 0>"
            ]
          },
          "metadata": {
            "tags": []
          },
          "execution_count": 6
        }
      ]
    },
    {
      "cell_type": "markdown",
      "metadata": {
        "id": "RG6TLWOF3lfJ"
      },
      "source": [
        "## Go and get your SQL functions\n",
        "\n",
        "Go and grab your SQL functions from another notebook.  You'll need these to check that your data were inserted.  "
      ]
    },
    {
      "cell_type": "code",
      "metadata": {
        "id": "uQLUaIyo5Zu0"
      },
      "source": [
        "# put functions here and run\n",
        "\n",
        "# Same run_query function\n",
        "def run_query(query_string):\n",
        "\n",
        "  conn, cur = get_conn_cur() # get connection and cursor\n",
        "\n",
        "  cur.execute(query_string) # executing string as before\n",
        "\n",
        "  my_data = cur.fetchall() # fetch query data as before\n",
        "\n",
        "  # here we're extracting the 0th element for each item in cur.description\n",
        "  colnames = [desc[0] for desc in cur.description]\n",
        "\n",
        "  cur.close() # close\n",
        "  conn.close() # close\n",
        "\n",
        "  return(colnames, my_data) # return column names AND data\n",
        "\n",
        "# Column name function for checking out what's in a table\n",
        "def get_column_names(table_name): # arguement of table_name\n",
        "  conn, cur = get_conn_cur() # get connection and cursor\n",
        "\n",
        "  # Now select column names while inserting the table name into the WERE\n",
        "  column_name_query =  \"\"\"SELECT column_name FROM information_schema.columns\n",
        "       WHERE table_name = '%s' \"\"\" %table_name\n",
        "\n",
        "  cur.execute(column_name_query) # exectue\n",
        "  my_data = cur.fetchall() # store\n",
        "\n",
        "  cur.close() # close\n",
        "  conn.close() # close\n",
        "\n",
        "  return(my_data) # return\n",
        "\n",
        "# Check table_names\n",
        "def get_table_names():\n",
        "  conn, cur = get_conn_cur() # get connection and cursor\n",
        "\n",
        "  # query to get table names\n",
        "  table_name_query = \"\"\"SELECT table_name FROM information_schema.tables\n",
        "       WHERE table_schema = 'public' \"\"\"\n",
        "\n",
        "  cur.execute(table_name_query) # execute\n",
        "  my_data = cur.fetchall() # fetch results\n",
        "\n",
        "  cur.close() #close cursor\n",
        "  conn.close() # close connection\n",
        "\n",
        "  return(my_data) # return your fetched results\n",
        "\n",
        "def sql_head(table_name):\n",
        "  conn, cur = get_conn_cur()\n",
        "  my_query = 'SELECT * FROM ' + table_name + ' LIMIT 5;'\n",
        "  ret_val = pd.read_sql_query(my_query, conn)\n",
        "  return ret_val"
      ],
      "execution_count": 7,
      "outputs": []
    },
    {
      "cell_type": "markdown",
      "metadata": {
        "id": "Ow5BxR7m5bs7"
      },
      "source": [
        "## Now make a table and push some data over - 10 points\n",
        "\n",
        "We're going to learn how to do this next week, but for now just run these cells to make a table in your database and then push a row of data over.\n",
        "\n",
        "This homework is all or nothing as it needs to work for credit. \n",
        "\n"
      ]
    },
    {
      "cell_type": "code",
      "metadata": {
        "id": "ygZrMiAD5we5"
      },
      "source": [
        "# make table\n",
        "conn, cur = get_conn_cur()\n",
        "tq = \"\"\"CREATE TABLE profs (\n",
        "          prof_id INTEGER PRIMARY KEY,\n",
        "          prof_age INTEGER NOT NULL , \n",
        "          prof_last_name VARCHAR(255) NOT NULL\n",
        "          );\"\"\"\n",
        "cur.execute(tq)\n",
        "conn.commit()"
      ],
      "execution_count": 8,
      "outputs": []
    },
    {
      "cell_type": "code",
      "metadata": {
        "id": "y8BiwcIU6H8O"
      },
      "source": [
        "# push a row\n",
        "iq = \"\"\"INSERT INTO profs (prof_id, prof_age, prof_last_name) VALUES(2344819, 37, 'dirienzo');\"\"\"\n",
        "conn, cur = get_conn_cur()\n",
        "cur.execute(iq)\n",
        "conn.commit()"
      ],
      "execution_count": 9,
      "outputs": []
    },
    {
      "cell_type": "code",
      "metadata": {
        "id": "ZmklRxwG7gCj",
        "colab": {
          "base_uri": "https://localhost:8080/"
        },
        "outputId": "0319d267-b145-40c7-d65f-37b8687f4f8d"
      },
      "source": [
        "# Now check the table name and sql_head for credit.  You should see one row with my info \n",
        "names = get_table_names()\n",
        "names\n",
        "sq = \"SELECT * FROM profs LIMIT 5;\"\n",
        "run_query(sq)"
      ],
      "execution_count": 16,
      "outputs": [
        {
          "output_type": "execute_result",
          "data": {
            "text/plain": [
              "(['prof_id', 'prof_age', 'prof_last_name'], [(2344819, 37, 'dirienzo')])"
            ]
          },
          "metadata": {
            "tags": []
          },
          "execution_count": 16
        }
      ]
    }
  ]
}