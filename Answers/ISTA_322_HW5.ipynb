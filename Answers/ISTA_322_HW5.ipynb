{
  "nbformat": 4,
  "nbformat_minor": 0,
  "metadata": {
    "colab": {
      "name": "ISTA_322_HW5_Newton.ipynb",
      "provenance": [],
      "collapsed_sections": []
    },
    "kernelspec": {
      "name": "python3",
      "display_name": "Python 3"
    }
  },
  "cells": [
    {
      "cell_type": "markdown",
      "metadata": {
        "id": "PIVONmeB6R-W"
      },
      "source": [
        "# HW 5 - Building a normalized RDB\n",
        " \n",
        "The goal of this homework is to take a semi-structured non-normalized CSV file and turn it into a set of normalized tables that you then push to your postgres database on AWS.  \n",
        " \n",
        "The original dataset contains 100k district court decisions, although I've downsampled it to only 1000 rows to make the uploads faster.  Each row contains info about a judge, their demographics, party affiliation, etc.  Rows also contain information about the case they were deciding on.  Was it a criminal or civil case?  What year was it?  Was the direction of the decision liberal or conservative?  \n",
        " \n",
        "While the current denormalized format is fine for analysis, it's not fine for a database as it violates many normalization rules. Your goal is to normalize it by designing a simple schema, then wrangling it into the proper dataframes, then pushing it all to AWS.  \n",
        " \n",
        "For the first part of this assignment you should wind up with three tables.  One with case information, one with judge information, one that has casetype information, and the last with case category information.  Each table should be reduced so that there are not then repeating rows, and primary keys should be assigned within each.  These tables should be called 'cases', 'judges', and 'casetype'.\n",
        " \n",
        "For the last part you should make a rollup table that calculates the percent of liberal decisions for each party level and each case category.  This will allow for one to get a quick look at how the political party affiliation of judges impacts the direction of a decision for different case categories (e.g. criminal, civil, labor). "
      ]
    },
    {
      "cell_type": "markdown",
      "metadata": {
        "id": "_jWNnlFk-vrU"
      },
      "source": [
        "## Bring in data, explore, make schema\n",
        "\n",
        "Start by bringing in your data to `cases`. Call a `.head()` on it to see what columns are there and what they contain."
      ]
    },
    {
      "cell_type": "code",
      "metadata": {
        "id": "GlsBOmibKzFV",
        "colab": {
          "base_uri": "https://localhost:8080/"
        },
        "outputId": "95d09bdc-f40a-4bc8-9a37-9dfd46d4922e"
      },
      "source": [
        "import pandas as pd\n",
        "import psycopg2\n",
        "import numpy as np\n",
        "cases = pd.read_csv('https://ista322data.s3-us-west-1.amazonaws.com/cases_denorm_small.csv')"
      ],
      "execution_count": 1,
      "outputs": [
        {
          "output_type": "stream",
          "text": [
            "/usr/local/lib/python3.7/dist-packages/psycopg2/__init__.py:144: UserWarning: The psycopg2 wheel package will be renamed from release 2.8; in order to keep installing from binary please use \"pip install psycopg2-binary\" instead. For details see: <http://initd.org/psycopg/docs/install.html#binary-install-from-pypi>.\n",
            "  \"\"\")\n"
          ],
          "name": "stderr"
        }
      ]
    },
    {
      "cell_type": "code",
      "metadata": {
        "id": "UQS-dq--K31L",
        "colab": {
          "base_uri": "https://localhost:8080/",
          "height": 343
        },
        "outputId": "aad4fbff-d619-4d5b-d0e9-b02a8cb0dfa3"
      },
      "source": [
        "# head of cases\n",
        "cases.head()"
      ],
      "execution_count": 2,
      "outputs": [
        {
          "output_type": "execute_result",
          "data": {
            "text/html": [
              "<div>\n",
              "<style scoped>\n",
              "    .dataframe tbody tr th:only-of-type {\n",
              "        vertical-align: middle;\n",
              "    }\n",
              "\n",
              "    .dataframe tbody tr th {\n",
              "        vertical-align: top;\n",
              "    }\n",
              "\n",
              "    .dataframe thead th {\n",
              "        text-align: right;\n",
              "    }\n",
              "</style>\n",
              "<table border=\"1\" class=\"dataframe\">\n",
              "  <thead>\n",
              "    <tr style=\"text-align: right;\">\n",
              "      <th></th>\n",
              "      <th>judge_name</th>\n",
              "      <th>party_name</th>\n",
              "      <th>gender_name</th>\n",
              "      <th>race_name</th>\n",
              "      <th>case_id</th>\n",
              "      <th>case_year</th>\n",
              "      <th>casetype_id</th>\n",
              "      <th>casetype_name</th>\n",
              "      <th>category_id</th>\n",
              "      <th>category_name</th>\n",
              "      <th>libcon_id</th>\n",
              "      <th>libcon_name</th>\n",
              "    </tr>\n",
              "  </thead>\n",
              "  <tbody>\n",
              "    <tr>\n",
              "      <th>0</th>\n",
              "      <td>Thompson, Myron H.</td>\n",
              "      <td>Democrat</td>\n",
              "      <td>male</td>\n",
              "      <td>African-American/black</td>\n",
              "      <td>28321332</td>\n",
              "      <td>2011</td>\n",
              "      <td>3</td>\n",
              "      <td>criminal court motions</td>\n",
              "      <td>1</td>\n",
              "      <td>Criminal Justice Cases</td>\n",
              "      <td>0</td>\n",
              "      <td>Conservative</td>\n",
              "    </tr>\n",
              "    <tr>\n",
              "      <th>1</th>\n",
              "      <td>Shoob, Marvin A.</td>\n",
              "      <td>Democrat</td>\n",
              "      <td>male</td>\n",
              "      <td>white/caucasian</td>\n",
              "      <td>18110669</td>\n",
              "      <td>1993</td>\n",
              "      <td>14</td>\n",
              "      <td>free of religion</td>\n",
              "      <td>2</td>\n",
              "      <td>Civil Liberties/Rights Cases</td>\n",
              "      <td>1</td>\n",
              "      <td>Liberal</td>\n",
              "    </tr>\n",
              "    <tr>\n",
              "      <th>2</th>\n",
              "      <td>Bua, Nicholas J.</td>\n",
              "      <td>Democrat</td>\n",
              "      <td>male</td>\n",
              "      <td>white/caucasian</td>\n",
              "      <td>15660871</td>\n",
              "      <td>1983</td>\n",
              "      <td>2</td>\n",
              "      <td>habeas corpus-state</td>\n",
              "      <td>1</td>\n",
              "      <td>Criminal Justice Cases</td>\n",
              "      <td>0</td>\n",
              "      <td>Conservative</td>\n",
              "    </tr>\n",
              "    <tr>\n",
              "      <th>3</th>\n",
              "      <td>Kovachevich, Elizabeth</td>\n",
              "      <td>Republican</td>\n",
              "      <td>female</td>\n",
              "      <td>white/caucasian</td>\n",
              "      <td>17770934</td>\n",
              "      <td>1991</td>\n",
              "      <td>2</td>\n",
              "      <td>habeas corpus-state</td>\n",
              "      <td>1</td>\n",
              "      <td>Criminal Justice Cases</td>\n",
              "      <td>0</td>\n",
              "      <td>Conservative</td>\n",
              "    </tr>\n",
              "    <tr>\n",
              "      <th>4</th>\n",
              "      <td>Gilliam, Earl B.</td>\n",
              "      <td>Independent/Other/Unknown</td>\n",
              "      <td>male</td>\n",
              "      <td>white/caucasian</td>\n",
              "      <td>26621195</td>\n",
              "      <td>2009</td>\n",
              "      <td>6</td>\n",
              "      <td>alien petitions</td>\n",
              "      <td>2</td>\n",
              "      <td>Civil Liberties/Rights Cases</td>\n",
              "      <td>0</td>\n",
              "      <td>Conservative</td>\n",
              "    </tr>\n",
              "  </tbody>\n",
              "</table>\n",
              "</div>"
            ],
            "text/plain": [
              "               judge_name                 party_name  ... libcon_id   libcon_name\n",
              "0      Thompson, Myron H.                   Democrat  ...         0  Conservative\n",
              "1        Shoob, Marvin A.                   Democrat  ...         1       Liberal\n",
              "2        Bua, Nicholas J.                   Democrat  ...         0  Conservative\n",
              "3  Kovachevich, Elizabeth                 Republican  ...         0  Conservative\n",
              "4        Gilliam, Earl B.  Independent/Other/Unknown  ...         0  Conservative\n",
              "\n",
              "[5 rows x 12 columns]"
            ]
          },
          "metadata": {
            "tags": []
          },
          "execution_count": 2
        }
      ]
    },
    {
      "cell_type": "markdown",
      "metadata": {
        "id": "ZxZrpJn7AoBV"
      },
      "source": [
        "### Make schema\n",
        " \n",
        "OK, given that head, you need to make three related tables that will make up a normalized database.  Those tables are 'cases', 'judges', and 'casetype'.  If it's not clear what info should go into each, explore the data more, ask on slack, etc.  \n",
        " \n",
        "Remember, you might not have keys, will need to reduce the rows, select certain columns, etc.  There isn't a defined path here.  "
      ]
    },
    {
      "cell_type": "markdown",
      "metadata": {
        "id": "bzg_7a6iPx2_"
      },
      "source": [
        "Here's a textbox to define what should be in your schema... feel free to add to this. \n"
      ]
    },
    {
      "cell_type": "markdown",
      "metadata": {
        "id": "owGhO5VuA-Tw"
      },
      "source": [
        "## Make cases table - 3 points\n",
        "\n",
        "Start by making a table that contains just each case's info.  I would call this table that you're going to upload `cases_df` so you don't overwrite your raw data.  \n",
        "\n",
        "This table should have six columns and 1000 rows.  \n",
        "\n",
        "Note, one of these columns should be a judge_id that links to the judges table. You'll need to make this foreign key.  \n",
        "\n",
        "Also, you can leave 'category_name' in this table as well as its id.  Normally you'd split that off into it's own table as well, but you're already doing that for casetype which is enough for now.  "
      ]
    },
    {
      "cell_type": "code",
      "metadata": {
        "id": "Uf_ovFQYPCKO"
      },
      "source": [
        "# Make judge_id in cases\n",
        "cases['judge_id'] = pd.factorize(cases['judge_name'])[0].astype(str)\n"
      ],
      "execution_count": 3,
      "outputs": []
    },
    {
      "cell_type": "code",
      "metadata": {
        "id": "ewrQQhsdPRRx"
      },
      "source": [
        "# select necessary columns to make cases_df\n",
        "\n",
        "\n",
        "cases_df = cases.copy()\n",
        "#cases_df = cases_df.set_index('case_id')\n",
        "cases_df = cases_df.drop(columns=['party_name', 'gender_name', 'race_name', 'libcon_id', 'libcon_name', 'judge_name', 'casetype_name'])"
      ],
      "execution_count": 15,
      "outputs": []
    },
    {
      "cell_type": "code",
      "metadata": {
        "id": "u7Yi1pSqQ8E2",
        "colab": {
          "base_uri": "https://localhost:8080/"
        },
        "outputId": "d4126335-9e58-4b94-dcaf-b8ebdb73de8a"
      },
      "source": [
        "# What's the shape of cases_df?\n",
        "cases_df.shape"
      ],
      "execution_count": 20,
      "outputs": [
        {
          "output_type": "execute_result",
          "data": {
            "text/plain": [
              "(1000, 6)"
            ]
          },
          "metadata": {
            "tags": []
          },
          "execution_count": 20
        }
      ]
    },
    {
      "cell_type": "markdown",
      "metadata": {
        "id": "6afDwjG9B-1m"
      },
      "source": [
        "### Make cases table in your database\n",
        "\n",
        "Go bring over your connection function from the last workbook. **This must be in here for me to grade the homework** If I can't access your database you'll get a zero.  It's a good idea to bring our other exploratory functions as well.  \n",
        "\n",
        "Once you do that you'll need to do the following\n",
        "\n",
        "* Connect, make a table called 'cases' with the correct column names and data types.  Be sure to execute and commit the table.  \n",
        "* Make tuples of your data\n",
        "* Write a SQL string that allows you to insert each tuple of data into the correct columns\n",
        "* Execute the string many times to fill out 'cases'\n",
        "* Commit changes and check the table.  \n",
        "\n",
        "I'm not going to leave a full roadmap beyond this.  Feel free to add cells as needed to do the above.  "
      ]
    },
    {
      "cell_type": "code",
      "metadata": {
        "id": "kA483G6bGfrU",
        "colab": {
          "base_uri": "https://localhost:8080/"
        },
        "outputId": "dc0a4f04-096f-46fc-b4d7-7a465953281e"
      },
      "source": [
        "def get_conn_cur(): # define function name and arguments (there aren't any)\n",
        "  # Make a connection\n",
        "  conn = psycopg2.connect(\n",
        "    host=\"test-hw-db.codpumsddvml.us-east-1.rds.amazonaws.com\",\n",
        "    database=\"hw3_db_newton\",\n",
        "    user=\"infamous\",\n",
        "    password=\"Viperpilot36\",\n",
        "    port='5432')\n",
        "  \n",
        "  cur = conn.cursor()   # Make a cursor after\n",
        "\n",
        "  return(conn, cur)   # Return both the connection and the cursor\n",
        "\n",
        "# run_query function\n",
        "def run_query(query_string):\n",
        "\n",
        "  conn, cur = get_conn_cur() # get connection and cursor\n",
        "\n",
        "  cur.execute(query_string) # executing string as before\n",
        "\n",
        "  my_data = cur.fetchall() # fetch query data as before\n",
        "\n",
        "  # here we're extracting the 0th element for each item in cur.description\n",
        "  colnames = [desc[0] for desc in cur.description]\n",
        "\n",
        "  cur.close() # close\n",
        "  conn.close() # close\n",
        "\n",
        "  return(colnames, my_data) # return column names AND data\n",
        "\n",
        "# Column name function for checking out what's in a table\n",
        "def get_column_names(table_name): # arguement of table_name\n",
        "  conn, cur = get_conn_cur() # get connection and cursor\n",
        "\n",
        "  # Now select column names while inserting the table name into the WERE\n",
        "  column_name_query =  \"\"\"SELECT column_name FROM information_schema.columns\n",
        "       WHERE table_name = '%s' \"\"\" %table_name\n",
        "\n",
        "  cur.execute(column_name_query) # exectue\n",
        "  my_data = cur.fetchall() # store\n",
        "\n",
        "  cur.close() # close\n",
        "  conn.close() # close\n",
        "\n",
        "  return(my_data) # return\n",
        "\n",
        "# Check table_names\n",
        "def get_table_names():\n",
        "  conn, cur = get_conn_cur() # get connection and cursor\n",
        "\n",
        "  # query to get table names\n",
        "  table_name_query = \"\"\"SELECT table_name FROM information_schema.tables\n",
        "       WHERE table_schema = 'public' \"\"\"\n",
        "\n",
        "  cur.execute(table_name_query) # execute\n",
        "  my_data = cur.fetchall() # fetch results\n",
        "\n",
        "  cur.close() #close cursor\n",
        "  conn.close() # close connection\n",
        "\n",
        "  return(my_data) # return your fetched results\n",
        "  \n",
        "# make sql_head function\n",
        "def sql_head(table_name):\n",
        "  conn, cur = get_conn_cur() # get connection and cursor\n",
        "\n",
        "  # Now select column names while inserting the table name into the WERE\n",
        "  head_query =  \"\"\"SELECT * FROM %s LIMIT 5; \"\"\" %table_name\n",
        "\n",
        "  cur.execute(head_query) # exectue\n",
        "  colnames = [desc[0] for desc in cur.description] # get column names\n",
        "  my_data = cur.fetchall() # store first five rows\n",
        "\n",
        "  cur.close() # close\n",
        "  conn.close() # close\n",
        "\n",
        "  df = pd.DataFrame(data = my_data, columns = colnames) # make into df\n",
        "\n",
        "  return(df) # return\n",
        "\n",
        "conn, cur = get_conn_cur()\n",
        "conn"
      ],
      "execution_count": 6,
      "outputs": [
        {
          "output_type": "execute_result",
          "data": {
            "text/plain": [
              "<connection object at 0x7fe314fb17d0; dsn: 'user=infamous password=xxx dbname=hw3_db_newton host=test-hw-db.codpumsddvml.us-east-1.rds.amazonaws.com port=5432', closed: 0>"
            ]
          },
          "metadata": {
            "tags": []
          },
          "execution_count": 6
        }
      ]
    },
    {
      "cell_type": "code",
      "metadata": {
        "id": "T9FvM8tqLqWv"
      },
      "source": [
        "# make table\n",
        "conn, cur = get_conn_cur()\n",
        "tq = \"\"\"CREATE TABLE cases (\n",
        "          case_id INTEGER PRIMARY KEY,\n",
        "          case_year INTEGER NOT NULL,\n",
        "          casetype_id INTEGER NOT NULL,\n",
        "          category_id INTEGER NOT NULL,\n",
        "          category_name VARCHAR(255) NOT NULL,\n",
        "          judge_id INTEGER NOT NULL\n",
        "          );\"\"\"\n",
        "cur.execute(tq)\n",
        "conn.commit()"
      ],
      "execution_count": 23,
      "outputs": []
    },
    {
      "cell_type": "code",
      "metadata": {
        "colab": {
          "base_uri": "https://localhost:8080/"
        },
        "id": "uuaF5Lwqog04",
        "outputId": "d0293515-8270-421e-8f96-f0240b06fa15"
      },
      "source": [
        "get_column_names(table_name='cases')\n",
        "data_tups = [tuple(x) for x in cases_df.to_numpy()]\n",
        "data_tups[2]"
      ],
      "execution_count": 25,
      "outputs": [
        {
          "output_type": "execute_result",
          "data": {
            "text/plain": [
              "(15660871, 1983, 2, 1, 'Criminal Justice Cases', '2')"
            ]
          },
          "metadata": {
            "tags": []
          },
          "execution_count": 25
        }
      ]
    },
    {
      "cell_type": "code",
      "metadata": {
        "id": "DeGIJipvLtdR"
      },
      "source": [
        "# push a row\n",
        "iq = \"\"\"INSERT INTO cases (case_id, case_year, casetype_id, category_id, category_name, judge_id) VALUES(%s, %s, %s, %s, %s, %s);\"\"\"\n",
        "conn, cur = get_conn_cur()\n",
        "cur.executemany(iq, data_tups)\n",
        "conn.commit()\n"
      ],
      "execution_count": 38,
      "outputs": []
    },
    {
      "cell_type": "code",
      "metadata": {
        "id": "dZ_eVmrmZMQS",
        "colab": {
          "base_uri": "https://localhost:8080/",
          "height": 204
        },
        "outputId": "d34e2e99-7dc4-495f-9b49-78bf379bc504"
      },
      "source": [
        "# Use sql_head to check cases\n",
        "sql_head(table_name='cases')"
      ],
      "execution_count": 40,
      "outputs": [
        {
          "output_type": "execute_result",
          "data": {
            "text/html": [
              "<div>\n",
              "<style scoped>\n",
              "    .dataframe tbody tr th:only-of-type {\n",
              "        vertical-align: middle;\n",
              "    }\n",
              "\n",
              "    .dataframe tbody tr th {\n",
              "        vertical-align: top;\n",
              "    }\n",
              "\n",
              "    .dataframe thead th {\n",
              "        text-align: right;\n",
              "    }\n",
              "</style>\n",
              "<table border=\"1\" class=\"dataframe\">\n",
              "  <thead>\n",
              "    <tr style=\"text-align: right;\">\n",
              "      <th></th>\n",
              "      <th>case_id</th>\n",
              "      <th>case_year</th>\n",
              "      <th>casetype_id</th>\n",
              "      <th>category_id</th>\n",
              "      <th>category_name</th>\n",
              "      <th>judge_id</th>\n",
              "    </tr>\n",
              "  </thead>\n",
              "  <tbody>\n",
              "    <tr>\n",
              "      <th>0</th>\n",
              "      <td>28321332</td>\n",
              "      <td>2011</td>\n",
              "      <td>3</td>\n",
              "      <td>1</td>\n",
              "      <td>Criminal Justice Cases</td>\n",
              "      <td>0</td>\n",
              "    </tr>\n",
              "    <tr>\n",
              "      <th>1</th>\n",
              "      <td>18110669</td>\n",
              "      <td>1993</td>\n",
              "      <td>14</td>\n",
              "      <td>2</td>\n",
              "      <td>Civil Liberties/Rights Cases</td>\n",
              "      <td>1</td>\n",
              "    </tr>\n",
              "    <tr>\n",
              "      <th>2</th>\n",
              "      <td>15660871</td>\n",
              "      <td>1983</td>\n",
              "      <td>2</td>\n",
              "      <td>1</td>\n",
              "      <td>Criminal Justice Cases</td>\n",
              "      <td>2</td>\n",
              "    </tr>\n",
              "    <tr>\n",
              "      <th>3</th>\n",
              "      <td>17770934</td>\n",
              "      <td>1991</td>\n",
              "      <td>2</td>\n",
              "      <td>1</td>\n",
              "      <td>Criminal Justice Cases</td>\n",
              "      <td>3</td>\n",
              "    </tr>\n",
              "    <tr>\n",
              "      <th>4</th>\n",
              "      <td>26621195</td>\n",
              "      <td>2009</td>\n",
              "      <td>6</td>\n",
              "      <td>2</td>\n",
              "      <td>Civil Liberties/Rights Cases</td>\n",
              "      <td>4</td>\n",
              "    </tr>\n",
              "  </tbody>\n",
              "</table>\n",
              "</div>"
            ],
            "text/plain": [
              "    case_id  case_year  ...                 category_name  judge_id\n",
              "0  28321332       2011  ...        Criminal Justice Cases         0\n",
              "1  18110669       1993  ...  Civil Liberties/Rights Cases         1\n",
              "2  15660871       1983  ...        Criminal Justice Cases         2\n",
              "3  17770934       1991  ...        Criminal Justice Cases         3\n",
              "4  26621195       2009  ...  Civil Liberties/Rights Cases         4\n",
              "\n",
              "[5 rows x 6 columns]"
            ]
          },
          "metadata": {
            "tags": []
          },
          "execution_count": 40
        }
      ]
    },
    {
      "cell_type": "code",
      "metadata": {
        "id": "JY8a107J3DFL"
      },
      "source": [
        "conn.close()"
      ],
      "execution_count": null,
      "outputs": []
    },
    {
      "cell_type": "markdown",
      "metadata": {
        "id": "Cb9Q6spxDvrh"
      },
      "source": [
        "## Make judges - 2 points\n",
        "\n",
        "Now make your  judges table from the original `cases` dataframe (not the SQL table you just made).  \n",
        "\n",
        "Judges should have five columns, including the `judge_id` column you made. There should be 553 rows after you drop duplicates (remember that judges may have had more than one case).  \n",
        "\n",
        "After you  make the dataset go and push to a SQL table called 'judges'. "
      ]
    },
    {
      "cell_type": "code",
      "metadata": {
        "colab": {
          "base_uri": "https://localhost:8080/",
          "height": 419
        },
        "id": "0tuVzX3x29RA",
        "outputId": "b37fb4c1-b905-4ad1-f90b-b167ef3fa3f3"
      },
      "source": [
        "judges = cases.copy()\n",
        "#cases_df = cases_df.set_index('case_id')\n",
        "judges = judges.drop(columns=['case_id',\t'case_year', 'casetype_id',\t'casetype_name', 'category_id', 'category_name'])\n",
        "judges = judges[['judge_id', 'judge_name', 'party_name', 'gender_name', 'race_name', 'libcon_id', 'libcon_name']]\n",
        "judges"
      ],
      "execution_count": 71,
      "outputs": [
        {
          "output_type": "execute_result",
          "data": {
            "text/html": [
              "<div>\n",
              "<style scoped>\n",
              "    .dataframe tbody tr th:only-of-type {\n",
              "        vertical-align: middle;\n",
              "    }\n",
              "\n",
              "    .dataframe tbody tr th {\n",
              "        vertical-align: top;\n",
              "    }\n",
              "\n",
              "    .dataframe thead th {\n",
              "        text-align: right;\n",
              "    }\n",
              "</style>\n",
              "<table border=\"1\" class=\"dataframe\">\n",
              "  <thead>\n",
              "    <tr style=\"text-align: right;\">\n",
              "      <th></th>\n",
              "      <th>judge_id</th>\n",
              "      <th>judge_name</th>\n",
              "      <th>party_name</th>\n",
              "      <th>gender_name</th>\n",
              "      <th>race_name</th>\n",
              "      <th>libcon_id</th>\n",
              "      <th>libcon_name</th>\n",
              "    </tr>\n",
              "  </thead>\n",
              "  <tbody>\n",
              "    <tr>\n",
              "      <th>0</th>\n",
              "      <td>0</td>\n",
              "      <td>Thompson, Myron H.</td>\n",
              "      <td>Democrat</td>\n",
              "      <td>male</td>\n",
              "      <td>African-American/black</td>\n",
              "      <td>0</td>\n",
              "      <td>Conservative</td>\n",
              "    </tr>\n",
              "    <tr>\n",
              "      <th>1</th>\n",
              "      <td>1</td>\n",
              "      <td>Shoob, Marvin A.</td>\n",
              "      <td>Democrat</td>\n",
              "      <td>male</td>\n",
              "      <td>white/caucasian</td>\n",
              "      <td>1</td>\n",
              "      <td>Liberal</td>\n",
              "    </tr>\n",
              "    <tr>\n",
              "      <th>2</th>\n",
              "      <td>2</td>\n",
              "      <td>Bua, Nicholas J.</td>\n",
              "      <td>Democrat</td>\n",
              "      <td>male</td>\n",
              "      <td>white/caucasian</td>\n",
              "      <td>0</td>\n",
              "      <td>Conservative</td>\n",
              "    </tr>\n",
              "    <tr>\n",
              "      <th>3</th>\n",
              "      <td>3</td>\n",
              "      <td>Kovachevich, Elizabeth</td>\n",
              "      <td>Republican</td>\n",
              "      <td>female</td>\n",
              "      <td>white/caucasian</td>\n",
              "      <td>0</td>\n",
              "      <td>Conservative</td>\n",
              "    </tr>\n",
              "    <tr>\n",
              "      <th>4</th>\n",
              "      <td>4</td>\n",
              "      <td>Gilliam, Earl B.</td>\n",
              "      <td>Independent/Other/Unknown</td>\n",
              "      <td>male</td>\n",
              "      <td>white/caucasian</td>\n",
              "      <td>0</td>\n",
              "      <td>Conservative</td>\n",
              "    </tr>\n",
              "    <tr>\n",
              "      <th>...</th>\n",
              "      <td>...</td>\n",
              "      <td>...</td>\n",
              "      <td>...</td>\n",
              "      <td>...</td>\n",
              "      <td>...</td>\n",
              "      <td>...</td>\n",
              "      <td>...</td>\n",
              "    </tr>\n",
              "    <tr>\n",
              "      <th>995</th>\n",
              "      <td>550</td>\n",
              "      <td>Weiner, Charles R.</td>\n",
              "      <td>Democrat</td>\n",
              "      <td>male</td>\n",
              "      <td>white/caucasian</td>\n",
              "      <td>0</td>\n",
              "      <td>Conservative</td>\n",
              "    </tr>\n",
              "    <tr>\n",
              "      <th>996</th>\n",
              "      <td>314</td>\n",
              "      <td>Rovner, Illana D.</td>\n",
              "      <td>Republican</td>\n",
              "      <td>female</td>\n",
              "      <td>white/caucasian</td>\n",
              "      <td>0</td>\n",
              "      <td>Conservative</td>\n",
              "    </tr>\n",
              "    <tr>\n",
              "      <th>997</th>\n",
              "      <td>551</td>\n",
              "      <td>Karas, Kenneth M.</td>\n",
              "      <td>Republican</td>\n",
              "      <td>female</td>\n",
              "      <td>white/caucasian</td>\n",
              "      <td>0</td>\n",
              "      <td>Conservative</td>\n",
              "    </tr>\n",
              "    <tr>\n",
              "      <th>998</th>\n",
              "      <td>552</td>\n",
              "      <td>White, George W.</td>\n",
              "      <td>Democrat</td>\n",
              "      <td>male</td>\n",
              "      <td>African-American/black</td>\n",
              "      <td>0</td>\n",
              "      <td>Conservative</td>\n",
              "    </tr>\n",
              "    <tr>\n",
              "      <th>999</th>\n",
              "      <td>324</td>\n",
              "      <td>O'Connor, Earl E.</td>\n",
              "      <td>Republican</td>\n",
              "      <td>male</td>\n",
              "      <td>white/caucasian</td>\n",
              "      <td>1</td>\n",
              "      <td>Liberal</td>\n",
              "    </tr>\n",
              "  </tbody>\n",
              "</table>\n",
              "<p>1000 rows × 7 columns</p>\n",
              "</div>"
            ],
            "text/plain": [
              "    judge_id              judge_name  ... libcon_id   libcon_name\n",
              "0          0      Thompson, Myron H.  ...         0  Conservative\n",
              "1          1        Shoob, Marvin A.  ...         1       Liberal\n",
              "2          2        Bua, Nicholas J.  ...         0  Conservative\n",
              "3          3  Kovachevich, Elizabeth  ...         0  Conservative\n",
              "4          4        Gilliam, Earl B.  ...         0  Conservative\n",
              "..       ...                     ...  ...       ...           ...\n",
              "995      550      Weiner, Charles R.  ...         0  Conservative\n",
              "996      314       Rovner, Illana D.  ...         0  Conservative\n",
              "997      551       Karas, Kenneth M.  ...         0  Conservative\n",
              "998      552        White, George W.  ...         0  Conservative\n",
              "999      324       O'Connor, Earl E.  ...         1       Liberal\n",
              "\n",
              "[1000 rows x 7 columns]"
            ]
          },
          "metadata": {
            "tags": []
          },
          "execution_count": 71
        }
      ]
    },
    {
      "cell_type": "code",
      "metadata": {
        "id": "xqWxADe74NVk"
      },
      "source": [
        "judges = judges.drop_duplicates('judge_id')"
      ],
      "execution_count": 77,
      "outputs": []
    },
    {
      "cell_type": "code",
      "metadata": {
        "id": "2kfEhDG35Gnu"
      },
      "source": [
        "# make table\n",
        "conn, cur = get_conn_cur()\n",
        "tq = \"\"\"CREATE TABLE judges (\n",
        "          judge_id INTEGER PRIMARY KEY,\n",
        "          judge_name VARCHAR(255) NOT NULL,\n",
        "          party_name VARCHAR(255) NULL,\n",
        "          gender_name VARCHAR(255) NOT NULL,\n",
        "          race_name VARCHAR(255) NOT NULL,\n",
        "          libcon_id INTEGER NOT NULL,\n",
        "          libcon_name VARCHAR(255) NOT NULL\n",
        "          );\"\"\"\n",
        "cur.execute(tq)\n",
        "conn.commit()"
      ],
      "execution_count": 52,
      "outputs": []
    },
    {
      "cell_type": "code",
      "metadata": {
        "colab": {
          "base_uri": "https://localhost:8080/"
        },
        "id": "Si6xzV29AtMN",
        "outputId": "6801c12a-ba4c-4fa9-acc9-b2c876f06f8c"
      },
      "source": [
        "get_column_names(table_name='judges')\n",
        "data_tups = [tuple(x) for x in judges.to_numpy()]\n",
        "data_tups[552]"
      ],
      "execution_count": 79,
      "outputs": [
        {
          "output_type": "execute_result",
          "data": {
            "text/plain": [
              "('552',\n",
              " 'White, George W.',\n",
              " 'Democrat',\n",
              " 'male',\n",
              " 'African-American/black',\n",
              " 0,\n",
              " 'Conservative')"
            ]
          },
          "metadata": {
            "tags": []
          },
          "execution_count": 79
        }
      ]
    },
    {
      "cell_type": "code",
      "metadata": {
        "id": "o0m1WhbHBE3S"
      },
      "source": [
        "# push all rows\n",
        "iq = \"\"\"INSERT INTO judges (judge_id, judge_name, party_name, gender_name, race_name, libcon_id, libcon_name) VALUES(%s, %s, %s, %s, %s, %s, %s);\"\"\"\n",
        "conn, cur = get_conn_cur()\n",
        "cur.executemany(iq, data_tups)\n",
        "conn.commit()"
      ],
      "execution_count": 80,
      "outputs": []
    },
    {
      "cell_type": "code",
      "metadata": {
        "colab": {
          "base_uri": "https://localhost:8080/",
          "height": 204
        },
        "id": "3O6p-cBTCbXc",
        "outputId": "1e36ab2a-ddb1-4586-f9d1-13ee42df9ee6"
      },
      "source": [
        "sql_head(table_name='judges')"
      ],
      "execution_count": 81,
      "outputs": [
        {
          "output_type": "execute_result",
          "data": {
            "text/html": [
              "<div>\n",
              "<style scoped>\n",
              "    .dataframe tbody tr th:only-of-type {\n",
              "        vertical-align: middle;\n",
              "    }\n",
              "\n",
              "    .dataframe tbody tr th {\n",
              "        vertical-align: top;\n",
              "    }\n",
              "\n",
              "    .dataframe thead th {\n",
              "        text-align: right;\n",
              "    }\n",
              "</style>\n",
              "<table border=\"1\" class=\"dataframe\">\n",
              "  <thead>\n",
              "    <tr style=\"text-align: right;\">\n",
              "      <th></th>\n",
              "      <th>judge_id</th>\n",
              "      <th>judge_name</th>\n",
              "      <th>party_name</th>\n",
              "      <th>gender_name</th>\n",
              "      <th>race_name</th>\n",
              "      <th>libcon_id</th>\n",
              "      <th>libcon_name</th>\n",
              "    </tr>\n",
              "  </thead>\n",
              "  <tbody>\n",
              "    <tr>\n",
              "      <th>0</th>\n",
              "      <td>0</td>\n",
              "      <td>Thompson, Myron H.</td>\n",
              "      <td>Democrat</td>\n",
              "      <td>male</td>\n",
              "      <td>African-American/black</td>\n",
              "      <td>0</td>\n",
              "      <td>Conservative</td>\n",
              "    </tr>\n",
              "    <tr>\n",
              "      <th>1</th>\n",
              "      <td>1</td>\n",
              "      <td>Shoob, Marvin A.</td>\n",
              "      <td>Democrat</td>\n",
              "      <td>male</td>\n",
              "      <td>white/caucasian</td>\n",
              "      <td>1</td>\n",
              "      <td>Liberal</td>\n",
              "    </tr>\n",
              "    <tr>\n",
              "      <th>2</th>\n",
              "      <td>2</td>\n",
              "      <td>Bua, Nicholas J.</td>\n",
              "      <td>Democrat</td>\n",
              "      <td>male</td>\n",
              "      <td>white/caucasian</td>\n",
              "      <td>0</td>\n",
              "      <td>Conservative</td>\n",
              "    </tr>\n",
              "    <tr>\n",
              "      <th>3</th>\n",
              "      <td>3</td>\n",
              "      <td>Kovachevich, Elizabeth</td>\n",
              "      <td>Republican</td>\n",
              "      <td>female</td>\n",
              "      <td>white/caucasian</td>\n",
              "      <td>0</td>\n",
              "      <td>Conservative</td>\n",
              "    </tr>\n",
              "    <tr>\n",
              "      <th>4</th>\n",
              "      <td>4</td>\n",
              "      <td>Gilliam, Earl B.</td>\n",
              "      <td>Independent/Other/Unknown</td>\n",
              "      <td>male</td>\n",
              "      <td>white/caucasian</td>\n",
              "      <td>0</td>\n",
              "      <td>Conservative</td>\n",
              "    </tr>\n",
              "  </tbody>\n",
              "</table>\n",
              "</div>"
            ],
            "text/plain": [
              "   judge_id              judge_name  ... libcon_id   libcon_name\n",
              "0         0      Thompson, Myron H.  ...         0  Conservative\n",
              "1         1        Shoob, Marvin A.  ...         1       Liberal\n",
              "2         2        Bua, Nicholas J.  ...         0  Conservative\n",
              "3         3  Kovachevich, Elizabeth  ...         0  Conservative\n",
              "4         4        Gilliam, Earl B.  ...         0  Conservative\n",
              "\n",
              "[5 rows x 7 columns]"
            ]
          },
          "metadata": {
            "tags": []
          },
          "execution_count": 81
        }
      ]
    },
    {
      "cell_type": "code",
      "metadata": {
        "id": "12IntRSoFAMr"
      },
      "source": [
        "conn.close()"
      ],
      "execution_count": 82,
      "outputs": []
    },
    {
      "cell_type": "markdown",
      "metadata": {
        "id": "OCipTbdcHQzN"
      },
      "source": [
        "## Make casetype - 2 points\n",
        "\n",
        "Go make the casetype table.  This should have only two columns that allow you to link the casetype name back to the ID in the 'cases' table. There should be 27 rows as well. "
      ]
    },
    {
      "cell_type": "code",
      "metadata": {
        "id": "kk1WMyUNFOfD"
      },
      "source": [
        "casetype = cases.copy()\n",
        "casetype = casetype.drop(columns=['judge_id', 'judge_name', 'party_name', 'gender_name', 'race_name', 'libcon_id', 'libcon_name', 'case_id',\t'case_year', 'category_id', 'category_name'])\n",
        "casetype = casetype[['casetype_id',\t'casetype_name']]\n",
        "casetype = casetype.drop_duplicates()"
      ],
      "execution_count": 87,
      "outputs": []
    },
    {
      "cell_type": "code",
      "metadata": {
        "id": "YVy8QOZ4GLWX"
      },
      "source": [
        "# make table\n",
        "conn, cur = get_conn_cur()\n",
        "tq = \"\"\"CREATE TABLE casetype (\n",
        "          casetype_id INTEGER PRIMARY KEY,\n",
        "          casetype_name VARCHAR(255) NOT NULL\n",
        "          );\"\"\"\n",
        "cur.execute(tq)\n",
        "conn.commit()"
      ],
      "execution_count": 88,
      "outputs": []
    },
    {
      "cell_type": "code",
      "metadata": {
        "colab": {
          "base_uri": "https://localhost:8080/"
        },
        "id": "rHQf7XJhGZV5",
        "outputId": "18b522d8-3588-49f1-dd1a-22756b08b47a"
      },
      "source": [
        "get_column_names(table_name='casetype')\n",
        "data_tups = [tuple(x) for x in casetype.to_numpy()]\n",
        "data_tups[0]"
      ],
      "execution_count": 91,
      "outputs": [
        {
          "output_type": "execute_result",
          "data": {
            "text/plain": [
              "(3, 'criminal court motions')"
            ]
          },
          "metadata": {
            "tags": []
          },
          "execution_count": 91
        }
      ]
    },
    {
      "cell_type": "code",
      "metadata": {
        "id": "dbXkOvacGn7N"
      },
      "source": [
        "iq = \"\"\"INSERT INTO casetype (casetype_id, casetype_name) VALUES(%s, %s);\"\"\"\n",
        "conn, cur = get_conn_cur()\n",
        "cur.executemany(iq, data_tups)\n",
        "conn.commit()"
      ],
      "execution_count": 92,
      "outputs": []
    },
    {
      "cell_type": "code",
      "metadata": {
        "colab": {
          "base_uri": "https://localhost:8080/",
          "height": 204
        },
        "id": "wkAa50k-G3l9",
        "outputId": "426657a1-e18e-4f77-818f-558dcf3d56c2"
      },
      "source": [
        "sql_head(table_name='casetype')"
      ],
      "execution_count": 94,
      "outputs": [
        {
          "output_type": "execute_result",
          "data": {
            "text/html": [
              "<div>\n",
              "<style scoped>\n",
              "    .dataframe tbody tr th:only-of-type {\n",
              "        vertical-align: middle;\n",
              "    }\n",
              "\n",
              "    .dataframe tbody tr th {\n",
              "        vertical-align: top;\n",
              "    }\n",
              "\n",
              "    .dataframe thead th {\n",
              "        text-align: right;\n",
              "    }\n",
              "</style>\n",
              "<table border=\"1\" class=\"dataframe\">\n",
              "  <thead>\n",
              "    <tr style=\"text-align: right;\">\n",
              "      <th></th>\n",
              "      <th>casetype_id</th>\n",
              "      <th>casetype_name</th>\n",
              "    </tr>\n",
              "  </thead>\n",
              "  <tbody>\n",
              "    <tr>\n",
              "      <th>0</th>\n",
              "      <td>3</td>\n",
              "      <td>criminal court motions</td>\n",
              "    </tr>\n",
              "    <tr>\n",
              "      <th>1</th>\n",
              "      <td>14</td>\n",
              "      <td>free of religion</td>\n",
              "    </tr>\n",
              "    <tr>\n",
              "      <th>2</th>\n",
              "      <td>2</td>\n",
              "      <td>habeas corpus-state</td>\n",
              "    </tr>\n",
              "    <tr>\n",
              "      <th>3</th>\n",
              "      <td>6</td>\n",
              "      <td>alien petitions</td>\n",
              "    </tr>\n",
              "    <tr>\n",
              "      <th>4</th>\n",
              "      <td>19</td>\n",
              "      <td>environmental protection</td>\n",
              "    </tr>\n",
              "  </tbody>\n",
              "</table>\n",
              "</div>"
            ],
            "text/plain": [
              "   casetype_id             casetype_name\n",
              "0            3    criminal court motions\n",
              "1           14          free of religion\n",
              "2            2       habeas corpus-state\n",
              "3            6           alien petitions\n",
              "4           19  environmental protection"
            ]
          },
          "metadata": {
            "tags": []
          },
          "execution_count": 94
        }
      ]
    },
    {
      "cell_type": "code",
      "metadata": {
        "id": "fC3o1WseHBYx"
      },
      "source": [
        "conn.close()"
      ],
      "execution_count": 96,
      "outputs": []
    },
    {
      "cell_type": "markdown",
      "metadata": {
        "id": "WaThd4pgJVAa"
      },
      "source": [
        "## A quick test of your tables\n",
        "\n",
        "Below is a query to get the number of unique judges that have ruled on criminal court motion cases.  You should get a value of 119 as your return if your database is set up correctly!"
      ]
    },
    {
      "cell_type": "code",
      "metadata": {
        "id": "UTvY-T16JXoL",
        "colab": {
          "base_uri": "https://localhost:8080/"
        },
        "outputId": "ce5e3497-b1f7-485e-928b-85db424b0450"
      },
      "source": [
        "run_query(\"\"\"SELECT COUNT(DISTINCT(judges.judge_id)) FROM cases \n",
        "                JOIN judges ON cases.judge_id = judges.judge_id \n",
        "                WHERE casetype_id = (SELECT casetype_id FROM casetype\n",
        "                                        WHERE casetype_name = 'criminal court motions'); \"\"\")\n",
        "              "
      ],
      "execution_count": 95,
      "outputs": [
        {
          "output_type": "execute_result",
          "data": {
            "text/plain": [
              "(['count'], [(119,)])"
            ]
          },
          "metadata": {
            "tags": []
          },
          "execution_count": 95
        }
      ]
    },
    {
      "cell_type": "markdown",
      "metadata": {
        "id": "wyx-UfY3KY7z"
      },
      "source": [
        "## Make rollup table - 3 points\n",
        " \n",
        "Now let's make that rollup table!  The goal here is to make a summary table easily accessed.  We're going to roll the whole thing up by the judges party and the category, but you could imagine doing this for each judge to track how they make decisions over time which would then be useful for an analytics database.  The one we're making could also be used as a dimension table where we needed overall party averages.  \n",
        " \n",
        "We want to get a percentage of liberal decisions by each grouping level (party_name, category_name). To do this we need first, the number of cases seen at each level, and second, the number of liberal decisions made at each level.  `cases` contains the columns `libcon_id` which is a 0 if the decision was conservative in its ruling, and a 1 if it was liberal in its ruling.  Thus, you can get a percentage of liberal decisions if you divide the sum of that column by the total observations.  Your `agg()` can both get the sum and count.  \n",
        " \n",
        "After you groupby you'll need to reset the index, rename the columns, then make the percentage.  \n",
        " \n",
        "Once you do that you can push to a SQL table called 'rollup'\n",
        " \n",
        "Let's get started"
      ]
    },
    {
      "cell_type": "code",
      "metadata": {
        "id": "zDWZ_LJyKdNw",
        "colab": {
          "base_uri": "https://localhost:8080/",
          "height": 390
        },
        "outputId": "4f55223e-4e3e-44f1-b2ad-ab9fa618677d"
      },
      "source": [
        "# Make a groupby called cases_rollup.  This should group by party_name and categrory name.  It should aggregate the count and sum of libcon_id\n",
        "cases_rollup = cases.groupby([cases['party_name'], cases['category_name']]).agg({'libcon_id' : ['count', 'sum']})\n",
        "cases_rollup"
      ],
      "execution_count": 114,
      "outputs": [
        {
          "output_type": "execute_result",
          "data": {
            "text/html": [
              "<div>\n",
              "<style scoped>\n",
              "    .dataframe tbody tr th:only-of-type {\n",
              "        vertical-align: middle;\n",
              "    }\n",
              "\n",
              "    .dataframe tbody tr th {\n",
              "        vertical-align: top;\n",
              "    }\n",
              "\n",
              "    .dataframe thead tr th {\n",
              "        text-align: left;\n",
              "    }\n",
              "\n",
              "    .dataframe thead tr:last-of-type th {\n",
              "        text-align: right;\n",
              "    }\n",
              "</style>\n",
              "<table border=\"1\" class=\"dataframe\">\n",
              "  <thead>\n",
              "    <tr>\n",
              "      <th></th>\n",
              "      <th></th>\n",
              "      <th colspan=\"2\" halign=\"left\">libcon_id</th>\n",
              "    </tr>\n",
              "    <tr>\n",
              "      <th></th>\n",
              "      <th></th>\n",
              "      <th>count</th>\n",
              "      <th>sum</th>\n",
              "    </tr>\n",
              "    <tr>\n",
              "      <th>party_name</th>\n",
              "      <th>category_name</th>\n",
              "      <th></th>\n",
              "      <th></th>\n",
              "    </tr>\n",
              "  </thead>\n",
              "  <tbody>\n",
              "    <tr>\n",
              "      <th rowspan=\"3\" valign=\"top\">Democrat</th>\n",
              "      <th>Civil Liberties/Rights Cases</th>\n",
              "      <td>218</td>\n",
              "      <td>112</td>\n",
              "    </tr>\n",
              "    <tr>\n",
              "      <th>Criminal Justice Cases</th>\n",
              "      <td>107</td>\n",
              "      <td>36</td>\n",
              "    </tr>\n",
              "    <tr>\n",
              "      <th>Labor &amp; Economic Cases</th>\n",
              "      <td>126</td>\n",
              "      <td>69</td>\n",
              "    </tr>\n",
              "    <tr>\n",
              "      <th rowspan=\"3\" valign=\"top\">Independent/Other/Unknown</th>\n",
              "      <th>Civil Liberties/Rights Cases</th>\n",
              "      <td>12</td>\n",
              "      <td>5</td>\n",
              "    </tr>\n",
              "    <tr>\n",
              "      <th>Criminal Justice Cases</th>\n",
              "      <td>8</td>\n",
              "      <td>5</td>\n",
              "    </tr>\n",
              "    <tr>\n",
              "      <th>Labor &amp; Economic Cases</th>\n",
              "      <td>13</td>\n",
              "      <td>6</td>\n",
              "    </tr>\n",
              "    <tr>\n",
              "      <th rowspan=\"3\" valign=\"top\">Republican</th>\n",
              "      <th>Civil Liberties/Rights Cases</th>\n",
              "      <td>237</td>\n",
              "      <td>73</td>\n",
              "    </tr>\n",
              "    <tr>\n",
              "      <th>Criminal Justice Cases</th>\n",
              "      <td>125</td>\n",
              "      <td>34</td>\n",
              "    </tr>\n",
              "    <tr>\n",
              "      <th>Labor &amp; Economic Cases</th>\n",
              "      <td>154</td>\n",
              "      <td>67</td>\n",
              "    </tr>\n",
              "  </tbody>\n",
              "</table>\n",
              "</div>"
            ],
            "text/plain": [
              "                                                       libcon_id     \n",
              "                                                           count  sum\n",
              "party_name                category_name                              \n",
              "Democrat                  Civil Liberties/Rights Cases       218  112\n",
              "                          Criminal Justice Cases             107   36\n",
              "                          Labor & Economic Cases             126   69\n",
              "Independent/Other/Unknown Civil Liberties/Rights Cases        12    5\n",
              "                          Criminal Justice Cases               8    5\n",
              "                          Labor & Economic Cases              13    6\n",
              "Republican                Civil Liberties/Rights Cases       237   73\n",
              "                          Criminal Justice Cases             125   34\n",
              "                          Labor & Economic Cases             154   67"
            ]
          },
          "metadata": {
            "tags": []
          },
          "execution_count": 114
        }
      ]
    },
    {
      "cell_type": "code",
      "metadata": {
        "id": "nQ2UOxTsKfOE"
      },
      "source": [
        "# reset your index\n",
        "cases_rollup = cases_rollup.reset_index()"
      ],
      "execution_count": 118,
      "outputs": []
    },
    {
      "cell_type": "code",
      "metadata": {
        "id": "plS7fzUiLCyi",
        "colab": {
          "base_uri": "https://localhost:8080/",
          "height": 328
        },
        "outputId": "f08b3b85-d869-44b4-f234-65949e581aad"
      },
      "source": [
        "# rename your columns now.  Keep the first to the same but call the last two 'total_cases' and 'num_lib_decisions'\n",
        "cases_rollup.columns = ['party_name',\t'category_name', 'total_cases', 'num_lib_decisions']\n",
        "cases_rollup"
      ],
      "execution_count": 121,
      "outputs": [
        {
          "output_type": "execute_result",
          "data": {
            "text/html": [
              "<div>\n",
              "<style scoped>\n",
              "    .dataframe tbody tr th:only-of-type {\n",
              "        vertical-align: middle;\n",
              "    }\n",
              "\n",
              "    .dataframe tbody tr th {\n",
              "        vertical-align: top;\n",
              "    }\n",
              "\n",
              "    .dataframe thead th {\n",
              "        text-align: right;\n",
              "    }\n",
              "</style>\n",
              "<table border=\"1\" class=\"dataframe\">\n",
              "  <thead>\n",
              "    <tr style=\"text-align: right;\">\n",
              "      <th></th>\n",
              "      <th>party_name</th>\n",
              "      <th>category_name</th>\n",
              "      <th>total_cases</th>\n",
              "      <th>num_lib_decisions</th>\n",
              "    </tr>\n",
              "  </thead>\n",
              "  <tbody>\n",
              "    <tr>\n",
              "      <th>0</th>\n",
              "      <td>Democrat</td>\n",
              "      <td>Civil Liberties/Rights Cases</td>\n",
              "      <td>218</td>\n",
              "      <td>112</td>\n",
              "    </tr>\n",
              "    <tr>\n",
              "      <th>1</th>\n",
              "      <td>Democrat</td>\n",
              "      <td>Criminal Justice Cases</td>\n",
              "      <td>107</td>\n",
              "      <td>36</td>\n",
              "    </tr>\n",
              "    <tr>\n",
              "      <th>2</th>\n",
              "      <td>Democrat</td>\n",
              "      <td>Labor &amp; Economic Cases</td>\n",
              "      <td>126</td>\n",
              "      <td>69</td>\n",
              "    </tr>\n",
              "    <tr>\n",
              "      <th>3</th>\n",
              "      <td>Independent/Other/Unknown</td>\n",
              "      <td>Civil Liberties/Rights Cases</td>\n",
              "      <td>12</td>\n",
              "      <td>5</td>\n",
              "    </tr>\n",
              "    <tr>\n",
              "      <th>4</th>\n",
              "      <td>Independent/Other/Unknown</td>\n",
              "      <td>Criminal Justice Cases</td>\n",
              "      <td>8</td>\n",
              "      <td>5</td>\n",
              "    </tr>\n",
              "    <tr>\n",
              "      <th>5</th>\n",
              "      <td>Independent/Other/Unknown</td>\n",
              "      <td>Labor &amp; Economic Cases</td>\n",
              "      <td>13</td>\n",
              "      <td>6</td>\n",
              "    </tr>\n",
              "    <tr>\n",
              "      <th>6</th>\n",
              "      <td>Republican</td>\n",
              "      <td>Civil Liberties/Rights Cases</td>\n",
              "      <td>237</td>\n",
              "      <td>73</td>\n",
              "    </tr>\n",
              "    <tr>\n",
              "      <th>7</th>\n",
              "      <td>Republican</td>\n",
              "      <td>Criminal Justice Cases</td>\n",
              "      <td>125</td>\n",
              "      <td>34</td>\n",
              "    </tr>\n",
              "    <tr>\n",
              "      <th>8</th>\n",
              "      <td>Republican</td>\n",
              "      <td>Labor &amp; Economic Cases</td>\n",
              "      <td>154</td>\n",
              "      <td>67</td>\n",
              "    </tr>\n",
              "  </tbody>\n",
              "</table>\n",
              "</div>"
            ],
            "text/plain": [
              "                  party_name  ... num_lib_decisions\n",
              "0                   Democrat  ...               112\n",
              "1                   Democrat  ...                36\n",
              "2                   Democrat  ...                69\n",
              "3  Independent/Other/Unknown  ...                 5\n",
              "4  Independent/Other/Unknown  ...                 5\n",
              "5  Independent/Other/Unknown  ...                 6\n",
              "6                 Republican  ...                73\n",
              "7                 Republican  ...                34\n",
              "8                 Republican  ...                67\n",
              "\n",
              "[9 rows x 4 columns]"
            ]
          },
          "metadata": {
            "tags": []
          },
          "execution_count": 121
        }
      ]
    },
    {
      "cell_type": "markdown",
      "metadata": {
        "id": "b7pn9Bj5NSuM"
      },
      "source": [
        "Now make a new column called 'percent_liberal'\n",
        "\n",
        "This should calucalte the percentage of decisions that were liberal in nature.  Multiple it by 100 so that it's a full percent.  Also use the `round()` function on the whole thing to keep it in whole percentages."
      ]
    },
    {
      "cell_type": "code",
      "metadata": {
        "id": "lRbgcHXhNKhv",
        "colab": {
          "base_uri": "https://localhost:8080/",
          "height": 328
        },
        "outputId": "9c630934-fffe-4bba-a2e4-758453154dd1"
      },
      "source": [
        "# make your metric called 'percent_liberal' \n",
        "cases_rollup['percent_liberal'] = 100 * (cases_rollup['num_lib_decisions'] / cases_rollup['total_cases']).round(2)\n",
        "cases_rollup"
      ],
      "execution_count": 124,
      "outputs": [
        {
          "output_type": "execute_result",
          "data": {
            "text/html": [
              "<div>\n",
              "<style scoped>\n",
              "    .dataframe tbody tr th:only-of-type {\n",
              "        vertical-align: middle;\n",
              "    }\n",
              "\n",
              "    .dataframe tbody tr th {\n",
              "        vertical-align: top;\n",
              "    }\n",
              "\n",
              "    .dataframe thead th {\n",
              "        text-align: right;\n",
              "    }\n",
              "</style>\n",
              "<table border=\"1\" class=\"dataframe\">\n",
              "  <thead>\n",
              "    <tr style=\"text-align: right;\">\n",
              "      <th></th>\n",
              "      <th>party_name</th>\n",
              "      <th>category_name</th>\n",
              "      <th>total_cases</th>\n",
              "      <th>num_lib_decisions</th>\n",
              "      <th>percent_liberal</th>\n",
              "    </tr>\n",
              "  </thead>\n",
              "  <tbody>\n",
              "    <tr>\n",
              "      <th>0</th>\n",
              "      <td>Democrat</td>\n",
              "      <td>Civil Liberties/Rights Cases</td>\n",
              "      <td>218</td>\n",
              "      <td>112</td>\n",
              "      <td>51.0</td>\n",
              "    </tr>\n",
              "    <tr>\n",
              "      <th>1</th>\n",
              "      <td>Democrat</td>\n",
              "      <td>Criminal Justice Cases</td>\n",
              "      <td>107</td>\n",
              "      <td>36</td>\n",
              "      <td>34.0</td>\n",
              "    </tr>\n",
              "    <tr>\n",
              "      <th>2</th>\n",
              "      <td>Democrat</td>\n",
              "      <td>Labor &amp; Economic Cases</td>\n",
              "      <td>126</td>\n",
              "      <td>69</td>\n",
              "      <td>55.0</td>\n",
              "    </tr>\n",
              "    <tr>\n",
              "      <th>3</th>\n",
              "      <td>Independent/Other/Unknown</td>\n",
              "      <td>Civil Liberties/Rights Cases</td>\n",
              "      <td>12</td>\n",
              "      <td>5</td>\n",
              "      <td>42.0</td>\n",
              "    </tr>\n",
              "    <tr>\n",
              "      <th>4</th>\n",
              "      <td>Independent/Other/Unknown</td>\n",
              "      <td>Criminal Justice Cases</td>\n",
              "      <td>8</td>\n",
              "      <td>5</td>\n",
              "      <td>62.0</td>\n",
              "    </tr>\n",
              "    <tr>\n",
              "      <th>5</th>\n",
              "      <td>Independent/Other/Unknown</td>\n",
              "      <td>Labor &amp; Economic Cases</td>\n",
              "      <td>13</td>\n",
              "      <td>6</td>\n",
              "      <td>46.0</td>\n",
              "    </tr>\n",
              "    <tr>\n",
              "      <th>6</th>\n",
              "      <td>Republican</td>\n",
              "      <td>Civil Liberties/Rights Cases</td>\n",
              "      <td>237</td>\n",
              "      <td>73</td>\n",
              "      <td>31.0</td>\n",
              "    </tr>\n",
              "    <tr>\n",
              "      <th>7</th>\n",
              "      <td>Republican</td>\n",
              "      <td>Criminal Justice Cases</td>\n",
              "      <td>125</td>\n",
              "      <td>34</td>\n",
              "      <td>27.0</td>\n",
              "    </tr>\n",
              "    <tr>\n",
              "      <th>8</th>\n",
              "      <td>Republican</td>\n",
              "      <td>Labor &amp; Economic Cases</td>\n",
              "      <td>154</td>\n",
              "      <td>67</td>\n",
              "      <td>44.0</td>\n",
              "    </tr>\n",
              "  </tbody>\n",
              "</table>\n",
              "</div>"
            ],
            "text/plain": [
              "                  party_name  ... percent_liberal\n",
              "0                   Democrat  ...            51.0\n",
              "1                   Democrat  ...            34.0\n",
              "2                   Democrat  ...            55.0\n",
              "3  Independent/Other/Unknown  ...            42.0\n",
              "4  Independent/Other/Unknown  ...            62.0\n",
              "5  Independent/Other/Unknown  ...            46.0\n",
              "6                 Republican  ...            31.0\n",
              "7                 Republican  ...            27.0\n",
              "8                 Republican  ...            44.0\n",
              "\n",
              "[9 rows x 5 columns]"
            ]
          },
          "metadata": {
            "tags": []
          },
          "execution_count": 124
        }
      ]
    },
    {
      "cell_type": "markdown",
      "metadata": {
        "id": "AoBcuXvJN_pl"
      },
      "source": [
        "Now go and push the whole thing to a table called 'rollup'\n",
        "\n",
        "There should be five columns and nine rows. "
      ]
    },
    {
      "cell_type": "code",
      "metadata": {
        "id": "SxhzdddEME66"
      },
      "source": [
        "conn, cur = get_conn_cur()\n",
        "tq = \"\"\"CREATE TABLE rollup (\n",
        "          party_name VARCHAR(255) NOT NULL,\n",
        "          category_name VARCHAR(255) NOT NULL,\n",
        "          total_cases INTEGER NOT NULL,\n",
        "          num_lib_decisions INTEGER NOT NULL,\n",
        "          percent_liberal INTEGER NOT NULL\n",
        "          );\"\"\"\n",
        "cur.execute(tq)\n",
        "conn.commit()\n",
        "conn.close()"
      ],
      "execution_count": 125,
      "outputs": []
    },
    {
      "cell_type": "code",
      "metadata": {
        "id": "Eenm22k3NP0x"
      },
      "source": [
        "conn, cur = get_conn_cur()\n",
        "get_column_names(table_name='rollup')\n",
        "data_tups = [tuple(x) for x in cases_rollup.to_numpy()]\n",
        "iq = \"\"\"INSERT INTO rollup (party_name, category_name, total_cases, num_lib_decisions, percent_liberal) VALUES(%s, %s, %s, %s, %s);\"\"\"\n",
        "cur.executemany(iq, data_tups)\n",
        "conn.commit()\n",
        "conn.close()"
      ],
      "execution_count": 133,
      "outputs": []
    },
    {
      "cell_type": "code",
      "metadata": {
        "id": "X7qTkp1SO1mb",
        "colab": {
          "base_uri": "https://localhost:8080/",
          "height": 204
        },
        "outputId": "b5a7e59c-a9e9-4e26-92a2-32e664abf530"
      },
      "source": [
        "# Check\n",
        "sql_head('rollup')"
      ],
      "execution_count": 134,
      "outputs": [
        {
          "output_type": "execute_result",
          "data": {
            "text/html": [
              "<div>\n",
              "<style scoped>\n",
              "    .dataframe tbody tr th:only-of-type {\n",
              "        vertical-align: middle;\n",
              "    }\n",
              "\n",
              "    .dataframe tbody tr th {\n",
              "        vertical-align: top;\n",
              "    }\n",
              "\n",
              "    .dataframe thead th {\n",
              "        text-align: right;\n",
              "    }\n",
              "</style>\n",
              "<table border=\"1\" class=\"dataframe\">\n",
              "  <thead>\n",
              "    <tr style=\"text-align: right;\">\n",
              "      <th></th>\n",
              "      <th>party_name</th>\n",
              "      <th>category_name</th>\n",
              "      <th>total_cases</th>\n",
              "      <th>num_lib_decisions</th>\n",
              "      <th>percent_liberal</th>\n",
              "    </tr>\n",
              "  </thead>\n",
              "  <tbody>\n",
              "    <tr>\n",
              "      <th>0</th>\n",
              "      <td>Democrat</td>\n",
              "      <td>Civil Liberties/Rights Cases</td>\n",
              "      <td>218</td>\n",
              "      <td>112</td>\n",
              "      <td>51</td>\n",
              "    </tr>\n",
              "    <tr>\n",
              "      <th>1</th>\n",
              "      <td>Democrat</td>\n",
              "      <td>Criminal Justice Cases</td>\n",
              "      <td>107</td>\n",
              "      <td>36</td>\n",
              "      <td>34</td>\n",
              "    </tr>\n",
              "    <tr>\n",
              "      <th>2</th>\n",
              "      <td>Democrat</td>\n",
              "      <td>Labor &amp; Economic Cases</td>\n",
              "      <td>126</td>\n",
              "      <td>69</td>\n",
              "      <td>55</td>\n",
              "    </tr>\n",
              "    <tr>\n",
              "      <th>3</th>\n",
              "      <td>Independent/Other/Unknown</td>\n",
              "      <td>Civil Liberties/Rights Cases</td>\n",
              "      <td>12</td>\n",
              "      <td>5</td>\n",
              "      <td>42</td>\n",
              "    </tr>\n",
              "    <tr>\n",
              "      <th>4</th>\n",
              "      <td>Independent/Other/Unknown</td>\n",
              "      <td>Criminal Justice Cases</td>\n",
              "      <td>8</td>\n",
              "      <td>5</td>\n",
              "      <td>62</td>\n",
              "    </tr>\n",
              "  </tbody>\n",
              "</table>\n",
              "</div>"
            ],
            "text/plain": [
              "                  party_name  ... percent_liberal\n",
              "0                   Democrat  ...              51\n",
              "1                   Democrat  ...              34\n",
              "2                   Democrat  ...              55\n",
              "3  Independent/Other/Unknown  ...              42\n",
              "4  Independent/Other/Unknown  ...              62\n",
              "\n",
              "[5 rows x 5 columns]"
            ]
          },
          "metadata": {
            "tags": []
          },
          "execution_count": 134
        }
      ]
    }
  ]
}